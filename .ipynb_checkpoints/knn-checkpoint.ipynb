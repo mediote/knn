{
 "cells": [
  {
   "cell_type": "markdown",
   "id": "c7d70158",
   "metadata": {},
   "source": [
    "#  CONTEÚDO\n",
    "\n",
    "## 1 - Objetivos da análise\n",
    "\n",
    "## 2 - Entendimento dos dados\n",
    "\n",
    "## 3 - Preparação e análise exploratória dos dados\n",
    "\n",
    "## 4 - Método holdout\n",
    "\n",
    "## 5 - Implementação do KNN  (k-Nearest Neighbors)\n",
    "\n",
    "## 6 - Modelagem e avaliação\n",
    "\n",
    "## 7 - Normalização e avaliação\n",
    "\n",
    "## 8 -  Considerações finais\n",
    "\n",
    "## 9 - Instruções para execução"
   ]
  },
  {
   "cell_type": "markdown",
   "id": "711fce15",
   "metadata": {},
   "source": []
  },
  {
   "cell_type": "markdown",
   "id": "cead8a21",
   "metadata": {},
   "source": []
  },
  {
   "cell_type": "markdown",
   "id": "790d7ec0",
   "metadata": {},
   "source": []
  },
  {
   "cell_type": "markdown",
   "id": "1ae974c9",
   "metadata": {},
   "source": [
    "## 1 - Objetivos da análise\n",
    "\n",
    "\n",
    "<ul>\n",
    "    <li>Fazer uma implementação própria do algoritmo KNN para classificação</li>\n",
    "    <li>Avaliar o uso do algoritmo KNN com diferentes valores de k, através do\n",
    "método holdout</li>\n",
    "    <li>Implementar uma função para fazer a divisão dos dados em treino e teste, de\n",
    "acordo com o método holdout. </li>\n",
    "    <li>Implementar normalização de dados e verificar o seu efeito sobre os\n",
    "resultados da classificação</li>\n",
    "</ul> \n",
    "\n",
    "\n",
    "Mais informação no <a href=\"https://github.com/mediote/knn/blob/main/instrucoes.pdf\">arquivo</a> ."
   ]
  },
  {
   "cell_type": "markdown",
   "id": "bbd15278",
   "metadata": {},
   "source": [
    "## 2 - Entendimento dos dados\n",
    "\n",
    "Os dados se referem à classificação de tumores de mama em maligno (1) ou benigno (0), de acordo com a coluna target. Os atributos (29 ao total) descrevem características dos núcleos celulares presentes em uma imagem digitalizada do material coletado na biópsia pelo método fine needle aspirate (FNA). Estes dados foram obtidos do  <a href=\"https://biodatamining.biomedcentral.com/articles/10.1186/s13040-017-0154-4\n",
    "\">repositório</a> PLMB."
   ]
  },
  {
   "cell_type": "markdown",
   "id": "20779725",
   "metadata": {},
   "source": [
    "## 3 - Preparação e análise exploratória dos dados"
   ]
  },
  {
   "cell_type": "code",
   "execution_count": 1,
   "id": "9fe485e5",
   "metadata": {},
   "outputs": [],
   "source": [
    "import pandas as pd\n",
    "import numpy as np \n",
    "from sklearn.metrics import accuracy_score\n",
    "import matplotlib.pyplot as plt\n",
    "import seaborn as sns\n",
    "import time"
   ]
  },
  {
   "cell_type": "code",
   "execution_count": 2,
   "id": "f2e1638f",
   "metadata": {},
   "outputs": [],
   "source": [
    "# Para execução no Colab descomente o trecho de código abaixo:\n",
    "\n",
    "#from pydrive.auth import GoogleAuth\n",
    "#from pydrive.drive import GoogleDrive\n",
    "#from google.colab import auth\n",
    "#from oauth2client.client import GoogleCredentials\n",
    "\n",
    "#auth.authenticate_user()\n",
    "#gauth = GoogleAuth()\n",
    "#gauth.credentials = GoogleCredentials.get_application_default()\n",
    "#drive = GoogleDrive(gauth)\n",
    "\n",
    "#downloaded = drive.CreateFile({'id':\"1n588s8WphRQQu1iusfxaAXN1W5d6kDH3\"}) \n",
    "#downloaded.GetContentFile('breast_cancer_data.csv') "
   ]
  },
  {
   "cell_type": "code",
   "execution_count": 3,
   "id": "eade25e4",
   "metadata": {},
   "outputs": [],
   "source": [
    "cancer_data = pd.read_csv('./breast_cancer_data.csv')"
   ]
  },
  {
   "cell_type": "markdown",
   "id": "491c17b6",
   "metadata": {},
   "source": [
    "### Verificando  proporção dos dados"
   ]
  },
  {
   "cell_type": "code",
   "execution_count": 4,
   "id": "674fa422",
   "metadata": {},
   "outputs": [
    {
     "data": {
      "text/plain": [
       "0    357\n",
       "1    212\n",
       "Name: target, dtype: int64"
      ]
     },
     "execution_count": 4,
     "metadata": {},
     "output_type": "execute_result"
    }
   ],
   "source": [
    "cancer_data['target'].value_counts()"
   ]
  },
  {
   "cell_type": "code",
   "execution_count": 5,
   "id": "8f5a6e05",
   "metadata": {},
   "outputs": [
    {
     "data": {
      "text/plain": [
       "<AxesSubplot:xlabel='target', ylabel='count'>"
      ]
     },
     "execution_count": 5,
     "metadata": {},
     "output_type": "execute_result"
    },
    {
     "data": {
      "image/png": "[encoded data removed]",
      "text/plain": [
       "<Figure size 432x288 with 1 Axes>"
      ]
     },
     "metadata": {
      "needs_background": "light"
     },
     "output_type": "display_data"
    }
   ],
   "source": [
    "sns.countplot(x=cancer_data['target'], label = 'count')"
   ]
  },
  {
   "cell_type": "markdown",
   "id": "efd73b48",
   "metadata": {},
   "source": [
    "### Resultado\n",
    "\n",
    "Os dados encontram-se desbalanceados, com 357 ocorrências para câncer benigno e 212 para maligno."
   ]
  },
  {
   "cell_type": "markdown",
   "id": "905b8071",
   "metadata": {},
   "source": [
    "### Balançeando os dados"
   ]
  },
  {
   "cell_type": "code",
   "execution_count": 6,
   "id": "bfac4184",
   "metadata": {},
   "outputs": [
    {
     "data": {
      "text/plain": [
       "0    212\n",
       "1    212\n",
       "Name: target, dtype: int64"
      ]
     },
     "execution_count": 6,
     "metadata": {},
     "output_type": "execute_result"
    }
   ],
   "source": [
    "cancer_data_0 = cancer_data[cancer_data.target==0]\n",
    "cancer_data_0 = cancer_data_0.sample(n=212)\n",
    "cancer_data_1 = cancer_data[cancer_data.target==1]\n",
    "cancer_data = pd.concat([cancer_data_0, cancer_data_1])\n",
    "cancer_data['target'].value_counts()"
   ]
  },
  {
   "cell_type": "code",
   "execution_count": 7,
   "id": "fc304404",
   "metadata": {},
   "outputs": [
    {
     "data": {
      "text/plain": [
       "<AxesSubplot:xlabel='target', ylabel='count'>"
      ]
     },
     "execution_count": 7,
     "metadata": {},
     "output_type": "execute_result"
    },
    {
     "data": {
      "image/png": "[encoded data removed]",
      "text/plain": [
       "<Figure size 432x288 with 1 Axes>"
      ]
     },
     "metadata": {
      "needs_background": "light"
     },
     "output_type": "display_data"
    }
   ],
   "source": [
    "sns.countplot(x=cancer_data['target'], label = 'count')"
   ]
  },
  {
   "cell_type": "markdown",
   "id": "26640887",
   "metadata": {},
   "source": [
    "### Resultado\n",
    "\n",
    "A base foi balanceada de forma a distribuir 212 ocorrências para câncer benigno e maligno."
   ]
  },
  {
   "cell_type": "markdown",
   "id": "d664adc6",
   "metadata": {},
   "source": [
    "### Característica dos atributos"
   ]
  },
  {
   "cell_type": "code",
   "execution_count": 8,
   "id": "4f39e8f7",
   "metadata": {},
   "outputs": [],
   "source": [
    "cancer_data = cancer_data.reset_index().drop(columns=[\"index\",\"Unnamed: 0\"])"
   ]
  },
  {
   "cell_type": "code",
   "execution_count": 9,
   "id": "7f4df954",
   "metadata": {},
   "outputs": [
    {
     "data": {
      "text/html": [
       "<div>\n",
       "<style scoped>\n",
       "    .dataframe tbody tr th:only-of-type {\n",
       "        vertical-align: middle;\n",
       "    }\n",
       "\n",
       "    .dataframe tbody tr th {\n",
       "        vertical-align: top;\n",
       "    }\n",
       "\n",
       "    .dataframe thead th {\n",
       "        text-align: right;\n",
       "    }\n",
       "</style>\n",
       "<table border=\"1\" class=\"dataframe\">\n",
       "  <thead>\n",
       "    <tr style=\"text-align: right;\">\n",
       "      <th></th>\n",
       "      <th>X2</th>\n",
       "      <th>X3</th>\n",
       "      <th>X4</th>\n",
       "      <th>X5</th>\n",
       "      <th>X6</th>\n",
       "      <th>X7</th>\n",
       "      <th>X8</th>\n",
       "      <th>X9</th>\n",
       "      <th>X10</th>\n",
       "      <th>X11</th>\n",
       "      <th>...</th>\n",
       "      <th>X23</th>\n",
       "      <th>X24</th>\n",
       "      <th>X25</th>\n",
       "      <th>X26</th>\n",
       "      <th>X27</th>\n",
       "      <th>X28</th>\n",
       "      <th>X29</th>\n",
       "      <th>X30</th>\n",
       "      <th>X31</th>\n",
       "      <th>target</th>\n",
       "    </tr>\n",
       "  </thead>\n",
       "  <tbody>\n",
       "    <tr>\n",
       "      <th>count</th>\n",
       "      <td>424.000000</td>\n",
       "      <td>424.000000</td>\n",
       "      <td>424.000000</td>\n",
       "      <td>424.000000</td>\n",
       "      <td>424.000000</td>\n",
       "      <td>424.000000</td>\n",
       "      <td>424.000000</td>\n",
       "      <td>424.000000</td>\n",
       "      <td>424.000000</td>\n",
       "      <td>424.000000</td>\n",
       "      <td>...</td>\n",
       "      <td>424.000000</td>\n",
       "      <td>424.000000</td>\n",
       "      <td>424.000000</td>\n",
       "      <td>424.000000</td>\n",
       "      <td>424.000000</td>\n",
       "      <td>424.000000</td>\n",
       "      <td>424.000000</td>\n",
       "      <td>424.000000</td>\n",
       "      <td>424.000000</td>\n",
       "      <td>424.000000</td>\n",
       "    </tr>\n",
       "    <tr>\n",
       "      <th>mean</th>\n",
       "      <td>14.821566</td>\n",
       "      <td>19.677123</td>\n",
       "      <td>96.834245</td>\n",
       "      <td>721.888915</td>\n",
       "      <td>0.097424</td>\n",
       "      <td>0.112945</td>\n",
       "      <td>0.103619</td>\n",
       "      <td>0.057099</td>\n",
       "      <td>0.183908</td>\n",
       "      <td>0.062780</td>\n",
       "      <td>...</td>\n",
       "      <td>26.316627</td>\n",
       "      <td>114.368019</td>\n",
       "      <td>992.418160</td>\n",
       "      <td>0.134528</td>\n",
       "      <td>0.280054</td>\n",
       "      <td>0.309407</td>\n",
       "      <td>0.129004</td>\n",
       "      <td>0.296925</td>\n",
       "      <td>0.085673</td>\n",
       "      <td>0.500000</td>\n",
       "    </tr>\n",
       "    <tr>\n",
       "      <th>std</th>\n",
       "      <td>3.704771</td>\n",
       "      <td>4.353274</td>\n",
       "      <td>25.552803</td>\n",
       "      <td>377.629290</td>\n",
       "      <td>0.014261</td>\n",
       "      <td>0.055546</td>\n",
       "      <td>0.083350</td>\n",
       "      <td>0.041018</td>\n",
       "      <td>0.027845</td>\n",
       "      <td>0.007212</td>\n",
       "      <td>...</td>\n",
       "      <td>6.197434</td>\n",
       "      <td>35.422756</td>\n",
       "      <td>614.269001</td>\n",
       "      <td>0.023154</td>\n",
       "      <td>0.166886</td>\n",
       "      <td>0.212289</td>\n",
       "      <td>0.067518</td>\n",
       "      <td>0.065490</td>\n",
       "      <td>0.019022</td>\n",
       "      <td>0.500591</td>\n",
       "    </tr>\n",
       "    <tr>\n",
       "      <th>min</th>\n",
       "      <td>6.981000</td>\n",
       "      <td>10.380000</td>\n",
       "      <td>43.790000</td>\n",
       "      <td>143.500000</td>\n",
       "      <td>0.052630</td>\n",
       "      <td>0.023440</td>\n",
       "      <td>0.000000</td>\n",
       "      <td>0.000000</td>\n",
       "      <td>0.116700</td>\n",
       "      <td>0.049960</td>\n",
       "      <td>...</td>\n",
       "      <td>12.490000</td>\n",
       "      <td>50.410000</td>\n",
       "      <td>185.200000</td>\n",
       "      <td>0.071170</td>\n",
       "      <td>0.027290</td>\n",
       "      <td>0.000000</td>\n",
       "      <td>0.000000</td>\n",
       "      <td>0.156500</td>\n",
       "      <td>0.055040</td>\n",
       "      <td>0.000000</td>\n",
       "    </tr>\n",
       "    <tr>\n",
       "      <th>25%</th>\n",
       "      <td>12.180000</td>\n",
       "      <td>16.535000</td>\n",
       "      <td>77.990000</td>\n",
       "      <td>454.750000</td>\n",
       "      <td>0.087277</td>\n",
       "      <td>0.071043</td>\n",
       "      <td>0.036950</td>\n",
       "      <td>0.023407</td>\n",
       "      <td>0.163775</td>\n",
       "      <td>0.057530</td>\n",
       "      <td>...</td>\n",
       "      <td>21.835000</td>\n",
       "      <td>87.205000</td>\n",
       "      <td>547.400000</td>\n",
       "      <td>0.119275</td>\n",
       "      <td>0.163525</td>\n",
       "      <td>0.144975</td>\n",
       "      <td>0.075188</td>\n",
       "      <td>0.255050</td>\n",
       "      <td>0.072830</td>\n",
       "      <td>0.000000</td>\n",
       "    </tr>\n",
       "    <tr>\n",
       "      <th>50%</th>\n",
       "      <td>14.025000</td>\n",
       "      <td>19.360000</td>\n",
       "      <td>91.300000</td>\n",
       "      <td>602.900000</td>\n",
       "      <td>0.097330</td>\n",
       "      <td>0.104400</td>\n",
       "      <td>0.085335</td>\n",
       "      <td>0.051855</td>\n",
       "      <td>0.181350</td>\n",
       "      <td>0.061545</td>\n",
       "      <td>...</td>\n",
       "      <td>25.810000</td>\n",
       "      <td>105.950000</td>\n",
       "      <td>786.300000</td>\n",
       "      <td>0.133250</td>\n",
       "      <td>0.239650</td>\n",
       "      <td>0.280250</td>\n",
       "      <td>0.121950</td>\n",
       "      <td>0.286700</td>\n",
       "      <td>0.081340</td>\n",
       "      <td>0.500000</td>\n",
       "    </tr>\n",
       "    <tr>\n",
       "      <th>75%</th>\n",
       "      <td>17.367500</td>\n",
       "      <td>22.115000</td>\n",
       "      <td>114.250000</td>\n",
       "      <td>936.775000</td>\n",
       "      <td>0.106300</td>\n",
       "      <td>0.143650</td>\n",
       "      <td>0.152350</td>\n",
       "      <td>0.086260</td>\n",
       "      <td>0.197150</td>\n",
       "      <td>0.066433</td>\n",
       "      <td>...</td>\n",
       "      <td>30.707500</td>\n",
       "      <td>137.950000</td>\n",
       "      <td>1302.500000</td>\n",
       "      <td>0.149100</td>\n",
       "      <td>0.372425</td>\n",
       "      <td>0.426075</td>\n",
       "      <td>0.182000</td>\n",
       "      <td>0.322775</td>\n",
       "      <td>0.094653</td>\n",
       "      <td>1.000000</td>\n",
       "    </tr>\n",
       "    <tr>\n",
       "      <th>max</th>\n",
       "      <td>28.110000</td>\n",
       "      <td>39.280000</td>\n",
       "      <td>188.500000</td>\n",
       "      <td>2501.000000</td>\n",
       "      <td>0.163400</td>\n",
       "      <td>0.345400</td>\n",
       "      <td>0.426800</td>\n",
       "      <td>0.201200</td>\n",
       "      <td>0.304000</td>\n",
       "      <td>0.097440</td>\n",
       "      <td>...</td>\n",
       "      <td>49.540000</td>\n",
       "      <td>251.200000</td>\n",
       "      <td>4254.000000</td>\n",
       "      <td>0.222600</td>\n",
       "      <td>1.058000</td>\n",
       "      <td>1.170000</td>\n",
       "      <td>0.291000</td>\n",
       "      <td>0.663800</td>\n",
       "      <td>0.207500</td>\n",
       "      <td>1.000000</td>\n",
       "    </tr>\n",
       "  </tbody>\n",
       "</table>\n",
       "<p>8 rows × 31 columns</p>\n",
       "</div>"
      ],
      "text/plain": [
       "               X2          X3          X4           X5          X6  \\\n",
       "count  424.000000  424.000000  424.000000   424.000000  424.000000   \n",
       "mean    14.821566   19.677123   96.834245   721.888915    0.097424   \n",
       "std      3.704771    4.353274   25.552803   377.629290    0.014261   \n",
       "min      6.981000   10.380000   43.790000   143.500000    0.052630   \n",
       "25%     12.180000   16.535000   77.990000   454.750000    0.087277   \n",
       "50%     14.025000   19.360000   91.300000   602.900000    0.097330   \n",
       "75%     17.367500   22.115000  114.250000   936.775000    0.106300   \n",
       "max     28.110000   39.280000  188.500000  2501.000000    0.163400   \n",
       "\n",
       "               X7          X8          X9         X10         X11  ...  \\\n",
       "count  424.000000  424.000000  424.000000  424.000000  424.000000  ...   \n",
       "mean     0.112945    0.103619    0.057099    0.183908    0.062780  ...   \n",
       "std      0.055546    0.083350    0.041018    0.027845    0.007212  ...   \n",
       "min      0.023440    0.000000    0.000000    0.116700    0.049960  ...   \n",
       "25%      0.071043    0.036950    0.023407    0.163775    0.057530  ...   \n",
       "50%      0.104400    0.085335    0.051855    0.181350    0.061545  ...   \n",
       "75%      0.143650    0.152350    0.086260    0.197150    0.066433  ...   \n",
       "max      0.345400    0.426800    0.201200    0.304000    0.097440  ...   \n",
       "\n",
       "              X23         X24          X25         X26         X27  \\\n",
       "count  424.000000  424.000000   424.000000  424.000000  424.000000   \n",
       "mean    26.316627  114.368019   992.418160    0.134528    0.280054   \n",
       "std      6.197434   35.422756   614.269001    0.023154    0.166886   \n",
       "min     12.490000   50.410000   185.200000    0.071170    0.027290   \n",
       "25%     21.835000   87.205000   547.400000    0.119275    0.163525   \n",
       "50%     25.810000  105.950000   786.300000    0.133250    0.239650   \n",
       "75%     30.707500  137.950000  1302.500000    0.149100    0.372425   \n",
       "max     49.540000  251.200000  4254.000000    0.222600    1.058000   \n",
       "\n",
       "              X28         X29         X30         X31      target  \n",
       "count  424.000000  424.000000  424.000000  424.000000  424.000000  \n",
       "mean     0.309407    0.129004    0.296925    0.085673    0.500000  \n",
       "std      0.212289    0.067518    0.065490    0.019022    0.500591  \n",
       "min      0.000000    0.000000    0.156500    0.055040    0.000000  \n",
       "25%      0.144975    0.075188    0.255050    0.072830    0.000000  \n",
       "50%      0.280250    0.121950    0.286700    0.081340    0.500000  \n",
       "75%      0.426075    0.182000    0.322775    0.094653    1.000000  \n",
       "max      1.170000    0.291000    0.663800    0.207500    1.000000  \n",
       "\n",
       "[8 rows x 31 columns]"
      ]
     },
     "execution_count": 9,
     "metadata": {},
     "output_type": "execute_result"
    }
   ],
   "source": [
    "cancer_data.describe()"
   ]
  },
  {
   "cell_type": "markdown",
   "id": "462fa4ad",
   "metadata": {},
   "source": [
    "### Resultado\n",
    "\n",
    "Os atributos encontram-se fora de escala, com a distribuição variando muito nos valores máximo e mínimo e medio. Essa variação impacta negativamente no cálculo de disância, pois atributos com ordem de grandeza maiores impactam mais nos resultados do que atributos com ordem de grandeza menores."
   ]
  },
  {
   "cell_type": "markdown",
   "id": "72982b62",
   "metadata": {},
   "source": [
    "## 4 - Método holdout"
   ]
  },
  {
   "cell_type": "markdown",
   "id": "d20915fa",
   "metadata": {},
   "source": [
    "### Divisão dos dados em treino e teste\n",
    "\n",
    "Foi usada a proporção de 80% para treino e 20% para teste, escolhidas de maneira aleatótia."
   ]
  },
  {
   "cell_type": "code",
   "execution_count": 10,
   "id": "9d674bd0",
   "metadata": {},
   "outputs": [],
   "source": [
    "from sklearn.model_selection import train_test_split\n",
    "\n",
    "X = cancer_data.iloc[:,:30].sort_index().reset_index().drop(columns=[\"index\"])\n",
    "y = cancer_data.iloc[:,[30]].sort_index().reset_index().drop(columns=[\"index\"])\n",
    "\n",
    "X_train, X_test, y_train, y_test = train_test_split(X, y, random_state=1, test_size=0.2)"
   ]
  },
  {
   "cell_type": "markdown",
   "id": "e95752f5",
   "metadata": {},
   "source": [
    "## 5 - Implementação do KNN\n",
    "\n",
    "\n",
    "A entrada do algorítimo é o valor de K, e a saída são os dados de teste classificados. Foi usada como medida de distância a euclidiana."
   ]
  },
  {
   "cell_type": "code",
   "execution_count": 11,
   "id": "a1b909b6",
   "metadata": {},
   "outputs": [],
   "source": [
    "def knn(k):\n",
    "    predicted = list()\n",
    "    for _ , test in X_test.iterrows(): # Para cada linha no conjunto de teste faça:\n",
    "        distances = pd.DataFrame(X_train.apply(lambda train: (np.linalg.norm(train - test) ),axis=1),columns=['distances'])\n",
    "        instances = distances.sort_values('distances')\n",
    "        k_instances = instances[:k]\n",
    "        k_instances = k_instances.join(y_train)\n",
    "        votes = k_instances['target'].value_counts() \n",
    "        \n",
    "        if (0 in votes.index and 1 in votes.index):            \n",
    "            if(votes[0] > votes[1]):                \n",
    "                predicted.append(0)\n",
    "            elif (votes[0] < votes[1]):                \n",
    "                predicted.append(1)\n",
    "        elif 0 not in votes.index:           \n",
    "            predicted.append(1)\n",
    "        elif 1 not in votes.index:            \n",
    "            predicted.append(0)\n",
    "\n",
    "    result = X_test.join(y_test)\n",
    "    result = result.assign(predicted=predicted)\n",
    "    return result"
   ]
  },
  {
   "cell_type": "markdown",
   "id": "1b3794b4",
   "metadata": {},
   "source": [
    "## 6 -  Modelagem e avaliação"
   ]
  },
  {
   "cell_type": "markdown",
   "id": "a3775bff",
   "metadata": {},
   "source": [
    "### Avaliar resultados para diferentes valores de K \n",
    "\n",
    "O algorítimo executa a função KNN para todos os valores em k-values, retornando a acurácia e o tempo total de execução em cada passo da iteração."
   ]
  },
  {
   "cell_type": "code",
   "execution_count": 12,
   "id": "db8f20ee",
   "metadata": {
    "scrolled": true
   },
   "outputs": [
    {
     "name": "stdout",
     "output_type": "stream",
     "text": [
      "| K = 1 : 0.9058823529411765 | Total time : 3.617668390274048 |\n",
      "| K = 3 : 0.9294117647058824 | Total time : 3.6672239303588867 |\n",
      "| K = 5 : 0.9411764705882353 | Total time : 3.690131902694702 |\n",
      "| K = 7 : 0.9411764705882353 | Total time : 3.7978484630584717 |\n"
     ]
    }
   ],
   "source": [
    "k_values = [1, 3, 5, 7]\n",
    "for k in k_values:\n",
    "    begin = time.time()\n",
    "    classify = knn(k=k)\n",
    "    end = time.time()\n",
    "    total_time = end - begin\n",
    "    acucracy = accuracy_score(classify['target'], classify['predicted'])\n",
    "    print('| K =',k ,':', acucracy,'| Total time :', total_time, '|')"
   ]
  },
  {
   "cell_type": "markdown",
   "id": "f80783ec",
   "metadata": {},
   "source": [
    "### Resultados\n",
    "\n",
    "Ao observar a saída da linha 11, a acurácia do modelo varia conforme o valor K aumenta. O tempo total de execução do algorítimo praticamente não muda no decorrer da iteração."
   ]
  },
  {
   "cell_type": "markdown",
   "id": "281416e9",
   "metadata": {},
   "source": [
    "## 7 - Normalização e avaliação"
   ]
  },
  {
   "cell_type": "markdown",
   "id": "43299012",
   "metadata": {},
   "source": [
    "### Função min-max para normalização dos dados"
   ]
  },
  {
   "cell_type": "code",
   "execution_count": 13,
   "id": "206498a1",
   "metadata": {},
   "outputs": [],
   "source": [
    "X_train = X_train.apply(lambda x: (x - np.min(x)) / (np.max(x) - np.min(x))) \n",
    "X_test = X_test.apply(lambda x: (x - np.min(x)) / (np.max(x) - np.min(x))) "
   ]
  },
  {
   "cell_type": "markdown",
   "id": "9e54c7a9",
   "metadata": {},
   "source": [
    "### Avaliar os resultados para diferentes valores de K"
   ]
  },
  {
   "cell_type": "code",
   "execution_count": 14,
   "id": "8b473615",
   "metadata": {},
   "outputs": [
    {
     "name": "stdout",
     "output_type": "stream",
     "text": [
      "| K = 1 : 0.9647058823529412 | Total time : 3.7629382610321045 |\n",
      "| K = 3 : 0.9529411764705882 | Total time : 3.6761677265167236 |\n",
      "| K = 5 : 0.9529411764705882 | Total time : 3.930488109588623 |\n",
      "| K = 7 : 0.9411764705882353 | Total time : 3.802830696105957 |\n"
     ]
    }
   ],
   "source": [
    "k_values = [1, 3, 5, 7]\n",
    "for k in k_values:\n",
    "    begin = time.time()\n",
    "    classify = knn(k=k)\n",
    "    end = time.time()\n",
    "    total_time = end - begin\n",
    "    acucracy = accuracy_score(classify['target'], classify['predicted'])\n",
    "    print('| K =',k ,':', acucracy,'| Total time :', total_time, '|')"
   ]
  },
  {
   "cell_type": "markdown",
   "id": "78621e89",
   "metadata": {},
   "source": [
    "### Resultados\n",
    "\n",
    "A normalização impactou de forma positiva, com uma melhora razoável nos resultados para todos os valores de K, conforme observado na saída da linha 14."
   ]
  },
  {
   "cell_type": "markdown",
   "id": "b570e130",
   "metadata": {},
   "source": [
    "## 8 -  Considerações finais\n",
    "\n",
    "Nesta análise, foi feita uma implementação própria do algoritimo KNN para classificar dados de tumores de mama em maligno (1) ou benigno (0), de acordo com a coluna target. Os dados foram balanceados, e, divididos em amostras de treino e teste na proporção 80/20, observando o método holdout. Inicialmente, os dados não normalizados, foram classificados com os valores de k=1, 2, 5, 7, apresentando resultados de acurácia e tempo de execução conforme a tablea abaixo:\n",
    "\n",
    "<table>\n",
    "  <tr>\n",
    "    <th style=\"text-align: left\">Acurácia</th>\n",
    "    <th style=\"text-align: left\">Tempo Execução</th> \n",
    "  </tr>\n",
    "  <tr>\n",
    "    <td>K = 1 : 0.9058823529411765</td>\n",
    "    <td style=\"text-align: left\">3.617668390274048</td>\n",
    "  </tr>\n",
    "  <tr>\n",
    "    <td>K = 3 : 0.9294117647058824</td>\n",
    "    <td style=\"text-align: left\">3.6672239303588867</td>\n",
    "  </tr>\n",
    "  <tr>\n",
    "    <td>K = 5 : 0.9411764705882353</td>\n",
    "    <td style=\"text-align: left\">3.690131902694702</td>\n",
    "  </tr>\n",
    "   <tr>\n",
    "    <td>K = 7 : 0.9411764705882353</td>\n",
    "    <td style=\"text-align: left\">3.7978484630584717</td>\n",
    "  </tr>\n",
    "</table>\n",
    "\n",
    "Em um segundo momento, os dados de treino e teste foram normalizados e o processo de classificação foi repetido observando os mesmos crtérios nos valores de k descritos acima.\n",
    "\n",
    "<table>\n",
    "  <tr>\n",
    "    <th style=\"text-align: left\">Acurácia</th>\n",
    "    <th style=\"text-align: left\">Tempo Execução</th> \n",
    "  </tr>\n",
    "  <tr>\n",
    "    <td>K = 1 : 0.9647058823529412</td>\n",
    "    <td style=\"text-align: left\">3.7629382610321045</td>\n",
    "  </tr>\n",
    "  <tr>\n",
    "    <td>K = 3 : 0.9529411764705882</td>\n",
    "    <td style=\"text-align: left\">3.6761677265167236</td>\n",
    "  </tr>\n",
    "  <tr>\n",
    "    <td>K = 5 : 0.9529411764705882</td>\n",
    "    <td style=\"text-align: left\">3.930488109588623</td>\n",
    "  </tr>\n",
    "   <tr>\n",
    "    <td>K = 7 : 0.9411764705882353</td>\n",
    "    <td style=\"text-align: left\">3.802830696105957</td>\n",
    "  </tr>\n",
    "</table>\n",
    "\n",
    "Conclui-se que, o tempo de execução total do algorítimo varia pouco com a mudança dos valores de k, e que, após a normalização dos dados, a acurácia do obtida melhorou razoavelmente."
   ]
  },
  {
   "cell_type": "markdown",
   "id": "56d5df1a",
   "metadata": {},
   "source": [
    "## 9 - Instruções para execução\n",
    "\n",
    "<ul>\n",
    "    <li>Github : https://github.com/mediote/knn</li>\n",
    "    <li>Colab  : https://colab.research.google.com/drive/1CLJ45koDzznmEnDcf_TAkKHCRajc3LRH#scrollTo=51d0805d</li>\n",
    "</ul>    \n",
    "\n",
    "\n",
    "Para executar o arquivo localmente com Jupyter Notebook, ou ambinte de sua preferência, basta clonar o <a href=\"https://github.com/mediote/knn.git\">repositório</a> e comentar as linhas na  <a href=\"https://colab.research.google.com/drive/1CLJ45koDzznmEnDcf_TAkKHCRajc3LRH#scrollTo=c05dfc81&line=4&uniqifier=1\">célula</a> 11. A base de dados encontra-se no mesmo diretório do projeto.\n",
    "\n",
    "Para executar pelo <a href=\"https://colab.research.google.com/drive/1CLJ45koDzznmEnDcf_TAkKHCRajc3LRH#scrollTo=51d0805d\">Colab</a>, basta descomentar as linhas na  <a href=\"https://colab.research.google.com/drive/1CLJ45koDzznmEnDcf_TAkKHCRajc3LRH#scrollTo=c05dfc81&line=4&uniqifier=1\">célula</a> 11, acessar o menu \"Ambiente de execução\", opção \"Executar tudo\"."
   ]
  }
 ],
 "metadata": {
  "kernelspec": {
   "display_name": "Python 3",
   "language": "python",
   "name": "python3"
  },
  "language_info": {
   "codemirror_mode": {
    "name": "ipython",
    "version": 3
   },
   "file_extension": ".py",
   "mimetype": "text/x-python",
   "name": "python",
   "nbconvert_exporter": "python",
   "pygments_lexer": "ipython3",
   "version": "3.8.8"
  }
 },
 "nbformat": 4,
 "nbformat_minor": 5
}
